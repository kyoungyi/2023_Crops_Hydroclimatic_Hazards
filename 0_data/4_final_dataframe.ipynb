{
 "cells": [
  {
   "cell_type": "markdown",
   "id": "e96eb512",
   "metadata": {},
   "source": [
    "# Hydroclimatic hazard - Combined_data\n",
    "- Author: Eunkyoung Choi (kyoung.choi@colostate.edu)\n",
    "- Version: April, 2022"
   ]
  },
  {
   "cell_type": "code",
   "execution_count": 2,
   "id": "58b82d77",
   "metadata": {},
   "outputs": [],
   "source": [
    "#### Import packages\n",
    "import numpy as np\n",
    "import pandas as pd\n",
    "import scipy.io\n",
    "import geopandas as gpd\n",
    "import matplotlib.pyplot as plt\n",
    "from scipy import stats"
   ]
  },
  {
   "cell_type": "markdown",
   "id": "43cd9e61",
   "metadata": {},
   "source": [
    "# 1) Option:"
   ]
  },
  {
   "cell_type": "code",
   "execution_count": 3,
   "id": "2e43edf1",
   "metadata": {},
   "outputs": [],
   "source": [
    "## options\n",
    "'''\n",
    "Please select which one to model:\n",
    "crop_name = Maize, Soybeans, Spring Wheat, Sorghum\n",
    "crop_yld_name = maize_yld, soy_yld, spr_wheat_yld, sorghum_yld\n",
    "'''\n",
    "\n",
    "crop_name = 'maize'\n",
    "crop_yld_name ='maize_yld'\n",
    "crop_file_name = 'maize'\n",
    "\n",
    "first_yr = 1981\n",
    "last_yr =2020"
   ]
  },
  {
   "cell_type": "code",
   "execution_count": 6,
   "id": "563b8e3c",
   "metadata": {},
   "outputs": [],
   "source": [
    "\n",
    "def geoid_format(data):\n",
    "    data['GEOID'] = data['GEOID'].astype(str).str.zfill(5)\n",
    "    data['time'] = pd.to_datetime(data['time'])\n",
    "    data['year'] = data['time'].dt.year\n",
    "    data['state'] = data['GEOID'].str[:2]\n",
    "    print(data.shape)\n",
    "    return data.loc[(data['year'] >= first_yr) & (data['year'] <= last_yr)]"
   ]
  },
  {
   "cell_type": "markdown",
   "id": "a6b1cdb0",
   "metadata": {},
   "source": [
    "# 2) Soil moisture from NCA-LDAS\n",
    "- 1979-2020 (1979 Jan1 = Nan)"
   ]
  },
  {
   "cell_type": "code",
   "execution_count": 11,
   "id": "b854eccb",
   "metadata": {},
   "outputs": [
    {
     "data": {
      "text/plain": [
       "array([365, 366], dtype=int64)"
      ]
     },
     "execution_count": 11,
     "metadata": {},
     "output_type": "execute_result"
    }
   ],
   "source": [
    "## import data\n",
    "sm_ldas = pd.read_parquet('0_soil_moisture_nca_ldas.gzip')\n",
    "sm_ldas = geoid_format(sm_ldas)\n",
    "\n",
    "## exclude leap year:\n",
    "sm_ldas = sm_ldas.loc[~((sm_ldas['time'].dt.month == 2) & (sm_ldas['time'].dt.day == 29))]\n",
    "\n",
    "## exclude no cropland:\n",
    "remove_geoid = sm_ldas.loc[sm_ldas['crop_count'] <1]['GEOID'].unique()\n",
    "sm_ldas = sm_ldas.loc[~sm_ldas['GEOID'].isin(remove_geoid)]\n",
    "sm_ldas.head()"
   ]
  },
  {
   "cell_type": "code",
   "execution_count": 11,
   "id": "640a8bc9",
   "metadata": {},
   "outputs": [],
   "source": [
    "column_lst =['ldas_sm_0_10cm', 'ldas_sm_10_40cm','ldas_sm_40_100cm']\n",
    "\n",
    "for column in column_lst:\n",
    "    if sm_ldas[column].dtype == 'float64':\n",
    "        sm_ldas[column] = sm_ldas[column].astype(np.float32)"
   ]
  },
  {
   "cell_type": "markdown",
   "id": "e94d5618",
   "metadata": {},
   "source": [
    "# 3) Weather data from PRISM and AgERA5"
   ]
  },
  {
   "cell_type": "code",
   "execution_count": 29,
   "id": "06373c5c",
   "metadata": {},
   "outputs": [],
   "source": [
    "weather = pd.read_parquet('agera5_cropland_weighted_avg_water_demand_27Mar2022.gzip')\n",
    "weather = geoid_format(weather)\n",
    "weather.head()"
   ]
  },
  {
   "cell_type": "code",
   "execution_count": 62,
   "id": "d3b9101a",
   "metadata": {},
   "outputs": [
    {
     "data": {
      "text/html": [
       "<div>\n",
       "<style scoped>\n",
       "    .dataframe tbody tr th:only-of-type {\n",
       "        vertical-align: middle;\n",
       "    }\n",
       "\n",
       "    .dataframe tbody tr th {\n",
       "        vertical-align: top;\n",
       "    }\n",
       "\n",
       "    .dataframe thead th {\n",
       "        text-align: right;\n",
       "    }\n",
       "</style>\n",
       "<table border=\"1\" class=\"dataframe\">\n",
       "  <thead>\n",
       "    <tr style=\"text-align: right;\">\n",
       "      <th></th>\n",
       "      <th>GEOID</th>\n",
       "      <th>county_name</th>\n",
       "      <th>time</th>\n",
       "      <th>county_count</th>\n",
       "      <th>prism_ppt</th>\n",
       "      <th>prism_vpdmean</th>\n",
       "      <th>prism_tmax</th>\n",
       "      <th>prism_tmin</th>\n",
       "    </tr>\n",
       "  </thead>\n",
       "  <tbody>\n",
       "    <tr>\n",
       "      <th>0</th>\n",
       "      <td>01001</td>\n",
       "      <td>Autauga</td>\n",
       "      <td>1981-01-01</td>\n",
       "      <td>215691.0</td>\n",
       "      <td>0.0</td>\n",
       "      <td>5.553852</td>\n",
       "      <td>14.667161</td>\n",
       "      <td>-2.519873</td>\n",
       "    </tr>\n",
       "    <tr>\n",
       "      <th>1</th>\n",
       "      <td>01001</td>\n",
       "      <td>Autauga</td>\n",
       "      <td>1981-01-02</td>\n",
       "      <td>215691.0</td>\n",
       "      <td>0.0</td>\n",
       "      <td>6.471299</td>\n",
       "      <td>16.364265</td>\n",
       "      <td>-0.844994</td>\n",
       "    </tr>\n",
       "    <tr>\n",
       "      <th>2</th>\n",
       "      <td>01001</td>\n",
       "      <td>Autauga</td>\n",
       "      <td>1981-01-03</td>\n",
       "      <td>215691.0</td>\n",
       "      <td>0.0</td>\n",
       "      <td>5.278090</td>\n",
       "      <td>12.137314</td>\n",
       "      <td>-4.178577</td>\n",
       "    </tr>\n",
       "    <tr>\n",
       "      <th>3</th>\n",
       "      <td>01001</td>\n",
       "      <td>Autauga</td>\n",
       "      <td>1981-01-04</td>\n",
       "      <td>215691.0</td>\n",
       "      <td>0.0</td>\n",
       "      <td>7.511469</td>\n",
       "      <td>16.633713</td>\n",
       "      <td>-2.830301</td>\n",
       "    </tr>\n",
       "    <tr>\n",
       "      <th>4</th>\n",
       "      <td>01001</td>\n",
       "      <td>Autauga</td>\n",
       "      <td>1981-01-05</td>\n",
       "      <td>215691.0</td>\n",
       "      <td>0.0</td>\n",
       "      <td>5.058056</td>\n",
       "      <td>9.431636</td>\n",
       "      <td>-4.508458</td>\n",
       "    </tr>\n",
       "  </tbody>\n",
       "</table>\n",
       "</div>"
      ],
      "text/plain": [
       "   GEOID county_name       time  county_count  prism_ppt  prism_vpdmean  \\\n",
       "0  01001     Autauga 1981-01-01      215691.0        0.0       5.553852   \n",
       "1  01001     Autauga 1981-01-02      215691.0        0.0       6.471299   \n",
       "2  01001     Autauga 1981-01-03      215691.0        0.0       5.278090   \n",
       "3  01001     Autauga 1981-01-04      215691.0        0.0       7.511469   \n",
       "4  01001     Autauga 1981-01-05      215691.0        0.0       5.058056   \n",
       "\n",
       "   prism_tmax  prism_tmin  \n",
       "0   14.667161   -2.519873  \n",
       "1   16.364265   -0.844994  \n",
       "2   12.137314   -4.178577  \n",
       "3   16.633713   -2.830301  \n",
       "4    9.431636   -4.508458  "
      ]
     },
     "execution_count": 62,
     "metadata": {},
     "output_type": "execute_result"
    }
   ],
   "source": [
    "ds = pd.read_parquet('prism_cropland_weighted_avg_daily_climate_usa_counties_1981_2020_27Mar2022.gzip')\n",
    "ds['GEOID'] = ds['GEOID'].astype(str).str.zfill(5)\n",
    "ds['time'] = pd.to_datetime(ds['time'])\n",
    "ds.head()"
   ]
  },
  {
   "cell_type": "code",
   "execution_count": 64,
   "id": "b9fccd8b",
   "metadata": {},
   "outputs": [
    {
     "data": {
      "text/plain": [
       "['both', 'left_only']\n",
       "Categories (3, object): ['left_only', 'right_only', 'both']"
      ]
     },
     "execution_count": 64,
     "metadata": {},
     "output_type": "execute_result"
    }
   ],
   "source": [
    "weather = pd.merge(ds.drop(columns=['county_count']), weather.drop(columns=['county_name']), on=['GEOID','time'], how='outer', indicator=True)\n",
    "weather._merge.unique()"
   ]
  },
  {
   "cell_type": "code",
   "execution_count": 4,
   "id": "21e56a2c",
   "metadata": {},
   "outputs": [],
   "source": [
    "weather.loc[weather['_merge'] == 'left_only']\n",
    "weather = weather.rename(columns={'_merge':'prismag_ldas_merge'})"
   ]
  },
  {
   "cell_type": "code",
   "execution_count": 71,
   "id": "d3d0c818",
   "metadata": {},
   "outputs": [
    {
     "name": "stdout",
     "output_type": "stream",
     "text": [
      "(44852700, 17)\n",
      "(44822000, 17)\n"
     ]
    }
   ],
   "source": [
    "print(weather.shape)\n",
    "weather = weather.loc[~((weather.time.dt.month ==2) & (weather.time.dt.day==29))]\n",
    "print(weather.shape)"
   ]
  },
  {
   "cell_type": "code",
   "execution_count": 12,
   "id": "c91c2634",
   "metadata": {},
   "outputs": [],
   "source": [
    "column_lst_w= ['prism_ppt', 'prism_vpdmean',\n",
    "       'prism_tmax', 'prism_tmin', 'agera5_avg_vpd_kpa', 'agera5_short_eto',\n",
    "       'agera5_tall_eto']\n",
    "\n",
    "for column in column_lst_w:\n",
    "    if weather[column].dtype == 'float64':\n",
    "        weather[column] = weather[column].astype(np.float32)"
   ]
  },
  {
   "cell_type": "code",
   "execution_count": 15,
   "id": "7a836d41",
   "metadata": {},
   "outputs": [
    {
     "name": "stdout",
     "output_type": "stream",
     "text": [
      "['both', 'left_only']\n",
      "Categories (3, object): ['left_only', 'right_only', 'both']\n",
      "(44690600, 9) (44646800, 15)\n"
     ]
    }
   ],
   "source": [
    "########################################## Merge SM and Weather ###############################################################\n",
    "ldas_temp = pd.merge(\n",
    "    sm_ldas[['GEOID','time','ldas_sm_0_10cm','ldas_sm_10_40cm','ldas_sm_40_100cm','year']],\n",
    "    weather.drop(columns=['county_name','year']),\n",
    "    on=['GEOID','time'], how='outer', indicator=True)\n",
    "print(ldas_temp._merge.unique())\n",
    "print(sm_ldas.shape,\n",
    "      weather.shape)"
   ]
  },
  {
   "cell_type": "code",
   "execution_count": 17,
   "id": "b6385480",
   "metadata": {},
   "outputs": [],
   "source": [
    "ldas_temp = ldas_temp.loc[ldas_temp['_merge'] == 'both']\n",
    "del sm_ldas\n",
    "del weather"
   ]
  },
  {
   "cell_type": "markdown",
   "id": "3e115f73",
   "metadata": {},
   "source": [
    "# 4) Yield data"
   ]
  },
  {
   "cell_type": "code",
   "execution_count": 8,
   "id": "53dc6aa1",
   "metadata": {},
   "outputs": [
    {
     "data": {
      "text/plain": [
       "((3185, 2), (3185, 2), (0,))"
      ]
     },
     "execution_count": 8,
     "metadata": {},
     "output_type": "execute_result"
    }
   ],
   "source": [
    "yield_data = pd.read_csv('usda_'+crop_file_name+'_1981_2020_with_irrigation_indicator_3June2022.csv', index_col=0)\n",
    "yield_data['GEOID']=yield_data['GEOID'].astype(str).str.zfill(5)\n",
    "yield_data = yield_data.loc[(yield_data['year'] >= first_yr) & (yield_data['year'] <= last_yr)]"
   ]
  },
  {
   "cell_type": "code",
   "execution_count": 12,
   "id": "1e5950ca",
   "metadata": {},
   "outputs": [
    {
     "data": {
      "text/plain": [
       "['left_only', 'both']\n",
       "Categories (3, object): ['left_only', 'right_only', 'both']"
      ]
     },
     "execution_count": 12,
     "metadata": {},
     "output_type": "execute_result"
    }
   ],
   "source": [
    "############################################ Merging #########################################################################\n",
    "ldas_final = pd.merge(ldas_temp, yield_data[['GEOID','year',crop_yld_name,'lon','lat','yld_count_until2020','irri_counties']],\n",
    "                    on=['GEOID','year'], how='outer', indicator=True)\n",
    "ldas_final = ldas_final.loc[ldas_final['_merge'] == 'both'].drop(columns=['_merge'])\n",
    "del ldas_temp"
   ]
  },
  {
   "cell_type": "code",
   "execution_count": 7,
   "id": "578c264e",
   "metadata": {},
   "outputs": [
    {
     "data": {
      "text/html": [
       "<div>\n",
       "<style scoped>\n",
       "    .dataframe tbody tr th:only-of-type {\n",
       "        vertical-align: middle;\n",
       "    }\n",
       "\n",
       "    .dataframe tbody tr th {\n",
       "        vertical-align: top;\n",
       "    }\n",
       "\n",
       "    .dataframe thead th {\n",
       "        text-align: right;\n",
       "    }\n",
       "</style>\n",
       "<table border=\"1\" class=\"dataframe\">\n",
       "  <thead>\n",
       "    <tr style=\"text-align: right;\">\n",
       "      <th></th>\n",
       "      <th>state</th>\n",
       "      <th>growing_phase</th>\n",
       "      <th>week_50</th>\n",
       "    </tr>\n",
       "  </thead>\n",
       "  <tbody>\n",
       "    <tr>\n",
       "      <th>0</th>\n",
       "      <td>04</td>\n",
       "      <td>EMERGED</td>\n",
       "      <td>5</td>\n",
       "    </tr>\n",
       "    <tr>\n",
       "      <th>1</th>\n",
       "      <td>04</td>\n",
       "      <td>HARVESTED</td>\n",
       "      <td>24</td>\n",
       "    </tr>\n",
       "    <tr>\n",
       "      <th>2</th>\n",
       "      <td>04</td>\n",
       "      <td>HEADED</td>\n",
       "      <td>14</td>\n",
       "    </tr>\n",
       "    <tr>\n",
       "      <th>3</th>\n",
       "      <td>04</td>\n",
       "      <td>PLANTED</td>\n",
       "      <td>3</td>\n",
       "    </tr>\n",
       "    <tr>\n",
       "      <th>4</th>\n",
       "      <td>30</td>\n",
       "      <td>EMERGED</td>\n",
       "      <td>22</td>\n",
       "    </tr>\n",
       "  </tbody>\n",
       "</table>\n",
       "</div>"
      ],
      "text/plain": [
       "  state growing_phase  week_50\n",
       "0    04       EMERGED        5\n",
       "1    04     HARVESTED       24\n",
       "2    04        HEADED       14\n",
       "3    04       PLANTED        3\n",
       "4    30       EMERGED       22"
      ]
     },
     "execution_count": 7,
     "metadata": {},
     "output_type": "execute_result"
    }
   ],
   "source": [
    "## historical crop progress data\n",
    "progress = pd.read_csv('crop_calendar'+crop_file_name+'_yearly_50%_planted_density_correspoinding_week_number_2014_2020_hybrid_method_22Mar2022.csv',index_col=0)\n",
    "progress['State_ID'] = progress['State_ID'].astype(str).str.zfill(2)\n",
    "progress = progress.rename(columns={'State':'State_ab', 'State_ID':'state'})\n",
    "crop_progress = progress.groupby(['state','growing_phase'])['week_50'].quantile(0.5, interpolation='nearest').reset_index()\n",
    "crop_progress['week_50'] = crop_progress['week_50'].round(0).astype(int)"
   ]
  },
  {
   "cell_type": "code",
   "execution_count": 9,
   "id": "dc4a0562",
   "metadata": {},
   "outputs": [
    {
     "data": {
      "text/plain": [
       "array([], dtype=object)"
      ]
     },
     "execution_count": 9,
     "metadata": {},
     "output_type": "execute_result"
    }
   ],
   "source": [
    "duplicate_state = crop_progress[crop_progress[['state','week_50']].duplicated()]['state']\n",
    "duplicate_state.values"
   ]
  },
  {
   "cell_type": "code",
   "execution_count": 10,
   "id": "bffb0580",
   "metadata": {},
   "outputs": [],
   "source": [
    "crop_progress = crop_progress.loc[~(crop_progress['state'].isin(duplicate_state) & (crop_progress['growing_phase'] == 'EMERGED'))]"
   ]
  },
  {
   "cell_type": "code",
   "execution_count": 19,
   "id": "751afc64",
   "metadata": {},
   "outputs": [
    {
     "name": "stderr",
     "output_type": "stream",
     "text": [
      "C:\\Users\\kyoun\\AppData\\Local\\Temp/ipykernel_20120/203985206.py:2: FutureWarning: Series.dt.weekofyear and Series.dt.week have been deprecated.  Please use Series.dt.isocalendar().week instead.\n",
      "  ldas_final['week_50'] = ldas_final['time'].dt.week\n"
     ]
    },
    {
     "data": {
      "text/html": [
       "<div>\n",
       "<style scoped>\n",
       "    .dataframe tbody tr th:only-of-type {\n",
       "        vertical-align: middle;\n",
       "    }\n",
       "\n",
       "    .dataframe tbody tr th {\n",
       "        vertical-align: top;\n",
       "    }\n",
       "\n",
       "    .dataframe thead th {\n",
       "        text-align: right;\n",
       "    }\n",
       "</style>\n",
       "<table border=\"1\" class=\"dataframe\">\n",
       "  <thead>\n",
       "    <tr style=\"text-align: right;\">\n",
       "      <th></th>\n",
       "      <th>GEOID</th>\n",
       "      <th>time</th>\n",
       "      <th>ldas_sm_0_10cm</th>\n",
       "      <th>ldas_sm_10_40cm</th>\n",
       "      <th>ldas_sm_40_100cm</th>\n",
       "      <th>year</th>\n",
       "      <th>prism_ppt</th>\n",
       "      <th>prism_vpdmean</th>\n",
       "      <th>prism_tmax</th>\n",
       "      <th>prism_tmin</th>\n",
       "      <th>...</th>\n",
       "      <th>state</th>\n",
       "      <th>ldas_avg_vpd_kpa</th>\n",
       "      <th>ldas_short_eto</th>\n",
       "      <th>ldas_tall_eto</th>\n",
       "      <th>durum_yld</th>\n",
       "      <th>lon</th>\n",
       "      <th>lat</th>\n",
       "      <th>yld_count_until2020</th>\n",
       "      <th>irri_counties</th>\n",
       "      <th>week_50</th>\n",
       "    </tr>\n",
       "  </thead>\n",
       "  <tbody>\n",
       "    <tr>\n",
       "      <th>24820</th>\n",
       "      <td>04003</td>\n",
       "      <td>1981-01-01</td>\n",
       "      <td>0.133886</td>\n",
       "      <td>0.205611</td>\n",
       "      <td>0.214761</td>\n",
       "      <td>1981</td>\n",
       "      <td>0.0</td>\n",
       "      <td>10.017172</td>\n",
       "      <td>19.535763</td>\n",
       "      <td>0.265390</td>\n",
       "      <td>...</td>\n",
       "      <td>04</td>\n",
       "      <td>1.222630</td>\n",
       "      <td>2.245915</td>\n",
       "      <td>3.581294</td>\n",
       "      <td>92.0</td>\n",
       "      <td>-109.75178</td>\n",
       "      <td>31.879091</td>\n",
       "      <td>7.0</td>\n",
       "      <td>Yes</td>\n",
       "      <td>1</td>\n",
       "    </tr>\n",
       "    <tr>\n",
       "      <th>24821</th>\n",
       "      <td>04003</td>\n",
       "      <td>1981-01-02</td>\n",
       "      <td>0.132737</td>\n",
       "      <td>0.205492</td>\n",
       "      <td>0.214664</td>\n",
       "      <td>1981</td>\n",
       "      <td>0.0</td>\n",
       "      <td>11.039088</td>\n",
       "      <td>20.917643</td>\n",
       "      <td>1.954751</td>\n",
       "      <td>...</td>\n",
       "      <td>04</td>\n",
       "      <td>1.017399</td>\n",
       "      <td>2.571626</td>\n",
       "      <td>4.223361</td>\n",
       "      <td>92.0</td>\n",
       "      <td>-109.75178</td>\n",
       "      <td>31.879091</td>\n",
       "      <td>7.0</td>\n",
       "      <td>Yes</td>\n",
       "      <td>1</td>\n",
       "    </tr>\n",
       "    <tr>\n",
       "      <th>24822</th>\n",
       "      <td>04003</td>\n",
       "      <td>1981-01-03</td>\n",
       "      <td>0.131824</td>\n",
       "      <td>0.205382</td>\n",
       "      <td>0.214568</td>\n",
       "      <td>1981</td>\n",
       "      <td>0.0</td>\n",
       "      <td>9.363811</td>\n",
       "      <td>19.428020</td>\n",
       "      <td>2.005535</td>\n",
       "      <td>...</td>\n",
       "      <td>04</td>\n",
       "      <td>1.082156</td>\n",
       "      <td>1.489441</td>\n",
       "      <td>2.443376</td>\n",
       "      <td>92.0</td>\n",
       "      <td>-109.75178</td>\n",
       "      <td>31.879091</td>\n",
       "      <td>7.0</td>\n",
       "      <td>Yes</td>\n",
       "      <td>1</td>\n",
       "    </tr>\n",
       "    <tr>\n",
       "      <th>24823</th>\n",
       "      <td>04003</td>\n",
       "      <td>1981-01-04</td>\n",
       "      <td>0.131686</td>\n",
       "      <td>0.205267</td>\n",
       "      <td>0.214468</td>\n",
       "      <td>1981</td>\n",
       "      <td>0.0</td>\n",
       "      <td>9.923656</td>\n",
       "      <td>20.431044</td>\n",
       "      <td>0.632699</td>\n",
       "      <td>...</td>\n",
       "      <td>04</td>\n",
       "      <td>1.099327</td>\n",
       "      <td>2.276939</td>\n",
       "      <td>3.710981</td>\n",
       "      <td>92.0</td>\n",
       "      <td>-109.75178</td>\n",
       "      <td>31.879091</td>\n",
       "      <td>7.0</td>\n",
       "      <td>Yes</td>\n",
       "      <td>1</td>\n",
       "    </tr>\n",
       "    <tr>\n",
       "      <th>24824</th>\n",
       "      <td>04003</td>\n",
       "      <td>1981-01-05</td>\n",
       "      <td>0.132842</td>\n",
       "      <td>0.205180</td>\n",
       "      <td>0.214380</td>\n",
       "      <td>1981</td>\n",
       "      <td>0.0</td>\n",
       "      <td>9.268793</td>\n",
       "      <td>18.536736</td>\n",
       "      <td>2.893811</td>\n",
       "      <td>...</td>\n",
       "      <td>04</td>\n",
       "      <td>1.087232</td>\n",
       "      <td>1.951347</td>\n",
       "      <td>3.062267</td>\n",
       "      <td>92.0</td>\n",
       "      <td>-109.75178</td>\n",
       "      <td>31.879091</td>\n",
       "      <td>7.0</td>\n",
       "      <td>Yes</td>\n",
       "      <td>2</td>\n",
       "    </tr>\n",
       "  </tbody>\n",
       "</table>\n",
       "<p>5 rows × 23 columns</p>\n",
       "</div>"
      ],
      "text/plain": [
       "       GEOID       time  ldas_sm_0_10cm  ldas_sm_10_40cm  ldas_sm_40_100cm  \\\n",
       "24820  04003 1981-01-01        0.133886         0.205611          0.214761   \n",
       "24821  04003 1981-01-02        0.132737         0.205492          0.214664   \n",
       "24822  04003 1981-01-03        0.131824         0.205382          0.214568   \n",
       "24823  04003 1981-01-04        0.131686         0.205267          0.214468   \n",
       "24824  04003 1981-01-05        0.132842         0.205180          0.214380   \n",
       "\n",
       "       year  prism_ppt  prism_vpdmean  prism_tmax  prism_tmin  ...  state  \\\n",
       "24820  1981        0.0      10.017172   19.535763    0.265390  ...     04   \n",
       "24821  1981        0.0      11.039088   20.917643    1.954751  ...     04   \n",
       "24822  1981        0.0       9.363811   19.428020    2.005535  ...     04   \n",
       "24823  1981        0.0       9.923656   20.431044    0.632699  ...     04   \n",
       "24824  1981        0.0       9.268793   18.536736    2.893811  ...     04   \n",
       "\n",
       "       ldas_avg_vpd_kpa  ldas_short_eto ldas_tall_eto  durum_yld        lon  \\\n",
       "24820          1.222630        2.245915      3.581294       92.0 -109.75178   \n",
       "24821          1.017399        2.571626      4.223361       92.0 -109.75178   \n",
       "24822          1.082156        1.489441      2.443376       92.0 -109.75178   \n",
       "24823          1.099327        2.276939      3.710981       92.0 -109.75178   \n",
       "24824          1.087232        1.951347      3.062267       92.0 -109.75178   \n",
       "\n",
       "             lat  yld_count_until2020  irri_counties  week_50  \n",
       "24820  31.879091                  7.0            Yes        1  \n",
       "24821  31.879091                  7.0            Yes        1  \n",
       "24822  31.879091                  7.0            Yes        1  \n",
       "24823  31.879091                  7.0            Yes        1  \n",
       "24824  31.879091                  7.0            Yes        2  \n",
       "\n",
       "[5 rows x 23 columns]"
      ]
     },
     "execution_count": 19,
     "metadata": {},
     "output_type": "execute_result"
    }
   ],
   "source": [
    "## week number input\n",
    "ldas_final['week_50'] = ldas_final['time'].dt.week\n",
    "ldas_final.head()"
   ]
  },
  {
   "cell_type": "code",
   "execution_count": 20,
   "id": "9f4e951e",
   "metadata": {},
   "outputs": [
    {
     "name": "stdout",
     "output_type": "stream",
     "text": [
      "(1162525, 25)\n"
     ]
    }
   ],
   "source": [
    "## combining the dataframe\n",
    "ldas_df =  pd.merge(ldas_final, crop_progress.rename(columns={'growing_phase':'growing'}), on=['state','week_50'], how='outer', indicator=True)\n",
    "print(ldas_df.shape)"
   ]
  },
  {
   "cell_type": "code",
   "execution_count": 21,
   "id": "acff5911",
   "metadata": {},
   "outputs": [
    {
     "name": "stdout",
     "output_type": "stream",
     "text": [
      "['left_only', 'both']\n",
      "Categories (3, object): ['left_only', 'right_only', 'both']\n"
     ]
    },
    {
     "data": {
      "text/html": [
       "<div>\n",
       "<style scoped>\n",
       "    .dataframe tbody tr th:only-of-type {\n",
       "        vertical-align: middle;\n",
       "    }\n",
       "\n",
       "    .dataframe tbody tr th {\n",
       "        vertical-align: top;\n",
       "    }\n",
       "\n",
       "    .dataframe thead th {\n",
       "        text-align: right;\n",
       "    }\n",
       "</style>\n",
       "<table border=\"1\" class=\"dataframe\">\n",
       "  <thead>\n",
       "    <tr style=\"text-align: right;\">\n",
       "      <th></th>\n",
       "      <th>GEOID</th>\n",
       "      <th>time</th>\n",
       "      <th>ldas_sm_0_10cm</th>\n",
       "      <th>ldas_sm_10_40cm</th>\n",
       "      <th>ldas_sm_40_100cm</th>\n",
       "      <th>year</th>\n",
       "      <th>prism_ppt</th>\n",
       "      <th>prism_vpdmean</th>\n",
       "      <th>prism_tmax</th>\n",
       "      <th>prism_tmin</th>\n",
       "      <th>...</th>\n",
       "      <th>ldas_short_eto</th>\n",
       "      <th>ldas_tall_eto</th>\n",
       "      <th>durum_yld</th>\n",
       "      <th>lon</th>\n",
       "      <th>lat</th>\n",
       "      <th>yld_count_until2020</th>\n",
       "      <th>irri_counties</th>\n",
       "      <th>week_50</th>\n",
       "      <th>growing</th>\n",
       "      <th>growing_phase</th>\n",
       "    </tr>\n",
       "  </thead>\n",
       "  <tbody>\n",
       "    <tr>\n",
       "      <th>0</th>\n",
       "      <td>04003</td>\n",
       "      <td>1981-01-01</td>\n",
       "      <td>0.133886</td>\n",
       "      <td>0.205611</td>\n",
       "      <td>0.214761</td>\n",
       "      <td>1981</td>\n",
       "      <td>0.00000</td>\n",
       "      <td>10.017172</td>\n",
       "      <td>19.535763</td>\n",
       "      <td>0.265390</td>\n",
       "      <td>...</td>\n",
       "      <td>2.245915</td>\n",
       "      <td>3.581294</td>\n",
       "      <td>92.0</td>\n",
       "      <td>-109.751780</td>\n",
       "      <td>31.879091</td>\n",
       "      <td>7.0</td>\n",
       "      <td>Yes</td>\n",
       "      <td>1</td>\n",
       "      <td>NaN</td>\n",
       "      <td>NaN</td>\n",
       "    </tr>\n",
       "    <tr>\n",
       "      <th>1</th>\n",
       "      <td>04003</td>\n",
       "      <td>1981-01-02</td>\n",
       "      <td>0.132737</td>\n",
       "      <td>0.205492</td>\n",
       "      <td>0.214664</td>\n",
       "      <td>1981</td>\n",
       "      <td>0.00000</td>\n",
       "      <td>11.039088</td>\n",
       "      <td>20.917643</td>\n",
       "      <td>1.954751</td>\n",
       "      <td>...</td>\n",
       "      <td>2.571626</td>\n",
       "      <td>4.223361</td>\n",
       "      <td>92.0</td>\n",
       "      <td>-109.751780</td>\n",
       "      <td>31.879091</td>\n",
       "      <td>7.0</td>\n",
       "      <td>Yes</td>\n",
       "      <td>1</td>\n",
       "      <td>NaN</td>\n",
       "      <td>NaN</td>\n",
       "    </tr>\n",
       "    <tr>\n",
       "      <th>2</th>\n",
       "      <td>04003</td>\n",
       "      <td>1981-01-03</td>\n",
       "      <td>0.131824</td>\n",
       "      <td>0.205382</td>\n",
       "      <td>0.214568</td>\n",
       "      <td>1981</td>\n",
       "      <td>0.00000</td>\n",
       "      <td>9.363811</td>\n",
       "      <td>19.428020</td>\n",
       "      <td>2.005535</td>\n",
       "      <td>...</td>\n",
       "      <td>1.489441</td>\n",
       "      <td>2.443376</td>\n",
       "      <td>92.0</td>\n",
       "      <td>-109.751780</td>\n",
       "      <td>31.879091</td>\n",
       "      <td>7.0</td>\n",
       "      <td>Yes</td>\n",
       "      <td>1</td>\n",
       "      <td>NaN</td>\n",
       "      <td>NaN</td>\n",
       "    </tr>\n",
       "    <tr>\n",
       "      <th>3</th>\n",
       "      <td>04003</td>\n",
       "      <td>1981-01-04</td>\n",
       "      <td>0.131686</td>\n",
       "      <td>0.205267</td>\n",
       "      <td>0.214468</td>\n",
       "      <td>1981</td>\n",
       "      <td>0.00000</td>\n",
       "      <td>9.923656</td>\n",
       "      <td>20.431044</td>\n",
       "      <td>0.632699</td>\n",
       "      <td>...</td>\n",
       "      <td>2.276939</td>\n",
       "      <td>3.710981</td>\n",
       "      <td>92.0</td>\n",
       "      <td>-109.751780</td>\n",
       "      <td>31.879091</td>\n",
       "      <td>7.0</td>\n",
       "      <td>Yes</td>\n",
       "      <td>1</td>\n",
       "      <td>NaN</td>\n",
       "      <td>NaN</td>\n",
       "    </tr>\n",
       "    <tr>\n",
       "      <th>4</th>\n",
       "      <td>04007</td>\n",
       "      <td>1981-01-01</td>\n",
       "      <td>0.188958</td>\n",
       "      <td>0.205624</td>\n",
       "      <td>0.208524</td>\n",
       "      <td>1981</td>\n",
       "      <td>0.00245</td>\n",
       "      <td>10.827749</td>\n",
       "      <td>19.813074</td>\n",
       "      <td>2.007902</td>\n",
       "      <td>...</td>\n",
       "      <td>1.815027</td>\n",
       "      <td>2.860188</td>\n",
       "      <td>66.0</td>\n",
       "      <td>-110.814567</td>\n",
       "      <td>33.802631</td>\n",
       "      <td>1.0</td>\n",
       "      <td>No</td>\n",
       "      <td>1</td>\n",
       "      <td>NaN</td>\n",
       "      <td>NaN</td>\n",
       "    </tr>\n",
       "  </tbody>\n",
       "</table>\n",
       "<p>5 rows × 25 columns</p>\n",
       "</div>"
      ],
      "text/plain": [
       "   GEOID       time  ldas_sm_0_10cm  ldas_sm_10_40cm  ldas_sm_40_100cm  year  \\\n",
       "0  04003 1981-01-01        0.133886         0.205611          0.214761  1981   \n",
       "1  04003 1981-01-02        0.132737         0.205492          0.214664  1981   \n",
       "2  04003 1981-01-03        0.131824         0.205382          0.214568  1981   \n",
       "3  04003 1981-01-04        0.131686         0.205267          0.214468  1981   \n",
       "4  04007 1981-01-01        0.188958         0.205624          0.208524  1981   \n",
       "\n",
       "   prism_ppt  prism_vpdmean  prism_tmax  prism_tmin  ...  ldas_short_eto  \\\n",
       "0    0.00000      10.017172   19.535763    0.265390  ...        2.245915   \n",
       "1    0.00000      11.039088   20.917643    1.954751  ...        2.571626   \n",
       "2    0.00000       9.363811   19.428020    2.005535  ...        1.489441   \n",
       "3    0.00000       9.923656   20.431044    0.632699  ...        2.276939   \n",
       "4    0.00245      10.827749   19.813074    2.007902  ...        1.815027   \n",
       "\n",
       "   ldas_tall_eto  durum_yld         lon        lat  yld_count_until2020  \\\n",
       "0       3.581294       92.0 -109.751780  31.879091                  7.0   \n",
       "1       4.223361       92.0 -109.751780  31.879091                  7.0   \n",
       "2       2.443376       92.0 -109.751780  31.879091                  7.0   \n",
       "3       3.710981       92.0 -109.751780  31.879091                  7.0   \n",
       "4       2.860188       66.0 -110.814567  33.802631                  1.0   \n",
       "\n",
       "   irri_counties  week_50  growing  growing_phase  \n",
       "0            Yes        1      NaN            NaN  \n",
       "1            Yes        1      NaN            NaN  \n",
       "2            Yes        1      NaN            NaN  \n",
       "3            Yes        1      NaN            NaN  \n",
       "4             No        1      NaN            NaN  \n",
       "\n",
       "[5 rows x 25 columns]"
      ]
     },
     "execution_count": 21,
     "metadata": {},
     "output_type": "execute_result"
    }
   ],
   "source": [
    "print(ldas_df._merge.unique())\n",
    "ldas_df = ldas_df.drop(columns='_merge')\n",
    "ldas_df['growing_phase'] = ldas_df['growing'].fillna(method=\"ffill\")\n",
    "## with forward filling, all data beyond harvest phase becomes harvested which we do not need. \n",
    "ldas_df.loc[((ldas_df['growing_phase'] == 'HARVESTED') & ldas_df['growing'].isnull()),'growing_phase'] = np.nan"
   ]
  },
  {
   "cell_type": "code",
   "execution_count": 22,
   "id": "86727eef",
   "metadata": {},
   "outputs": [
    {
     "data": {
      "text/plain": [
       "array([7], dtype=int64)"
      ]
     },
     "execution_count": 22,
     "metadata": {},
     "output_type": "execute_result"
    }
   ],
   "source": [
    "## check if the number of days for harvested week are 7 days. Just marking the starting week as we will consider the crop progress days before harvested phase:\n",
    "ldas_df.loc[ldas_df.growing_phase == 'HARVESTED'].groupby(['GEOID','year'])['time'].count().unique()"
   ]
  },
  {
   "cell_type": "code",
   "execution_count": 23,
   "id": "eeeef5f2",
   "metadata": {},
   "outputs": [],
   "source": [
    "irri_c = ldas_df.loc[ldas_df[\"irri_counties\"] == 'Yes']['GEOID'].unique()\n",
    "rain_c = ldas_df.loc[ldas_df['irri_counties'] == 'No']['GEOID'].unique()\n",
    "\n",
    "ldas_df.loc[ldas_df['GEOID'].isin(irri_c), 'irri_counties'] = 'Yes'\n",
    "ldas_df.loc[ldas_df['GEOID'].isin(rain_c), 'irri_counties'] = 'No'"
   ]
  },
  {
   "cell_type": "code",
   "execution_count": 5,
   "id": "4ee050d4",
   "metadata": {},
   "outputs": [],
   "source": [
    "### saving file\n",
    "ldas_df.to_parquet('final_'+crop_file_name+'_combined_cropland_weighted_avg_dataframe_5June2022.gzip',compression='gzip')"
   ]
  }
 ],
 "metadata": {
  "kernelspec": {
   "display_name": "Python 3 (ipykernel)",
   "language": "python",
   "name": "python3"
  },
  "language_info": {
   "codemirror_mode": {
    "name": "ipython",
    "version": 3
   },
   "file_extension": ".py",
   "mimetype": "text/x-python",
   "name": "python",
   "nbconvert_exporter": "python",
   "pygments_lexer": "ipython3",
   "version": "3.8.15"
  }
 },
 "nbformat": 4,
 "nbformat_minor": 5
}
