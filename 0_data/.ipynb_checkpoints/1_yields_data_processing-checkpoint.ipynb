{
 "cells": [
  {
   "cell_type": "markdown",
   "metadata": {},
   "source": [
    "# Hydroclimatic hazard - Irrigation filtration data processing\n",
    "- Author: Eunkyoung Choi (kyoung.choi@colostate.edu)\n",
    "- Version: June, 2021"
   ]
  },
  {
   "cell_type": "code",
   "execution_count": 1,
   "metadata": {},
   "outputs": [],
   "source": [
    "## Import packages:\n",
    "import numpy as np\n",
    "import pandas as pd\n",
    "import scipy.io\n",
    "import geopandas as gpd\n",
    "import matplotlib.pyplot as plt\n",
    "import plotly.figure_factory as ff\n",
    "import plotly.graph_objects as go\n",
    "import plotly.express as px"
   ]
  },
  {
   "cell_type": "markdown",
   "metadata": {},
   "source": [
    "# 1) Option"
   ]
  },
  {
   "cell_type": "code",
   "execution_count": 3,
   "metadata": {},
   "outputs": [],
   "source": [
    "'''\n",
    "Please select which one to model:\n",
    "crop_name = Maize, Soybeans, Spring Wheat, Sorghum\n",
    "crop_yld_name = maize_yld, soy_yld, spr_wheat_yld, sorghum_yld\n",
    "\n",
    "Note:\n",
    "1. All data are from USDA NASS.\n",
    "'''\n",
    "\n",
    "crop_name = 'Maize'\n",
    "crop_yld_name = 'maize_yld'\n"
   ]
  },
  {
   "cell_type": "code",
   "execution_count": 27,
   "metadata": {},
   "outputs": [],
   "source": [
    "################################### Custom Functions #########################################################################\n",
    "def usda_format(usda_crop,val_name, nass):\n",
    "    usda_crop = usda_crop.rename(columns={'Value':val_name,'State ANSI':'state_id','County ANSI':'county_id','Year':'year'})\n",
    "    usda_crop['state_id'] = usda_crop['state_id'].astype(str).str.zfill(2)\n",
    "    usda_crop = usda_crop.loc[~usda_crop['County'].isin(['OTHER (COMBINED) COUNTIES','OTHER COUNTIES'])]\n",
    "    usda_crop = usda_crop.loc[~usda_crop['county_id'].isnull()]\n",
    "    usda_crop['county_id'] = usda_crop['county_id'].astype(int).astype(str).str.zfill(3)\n",
    "    usda_crop['GEOID'] = usda_crop['state_id'] + usda_crop['county_id']\n",
    "    if nass == 'Yield':\n",
    "        usda_crop = usda_crop.loc[usda_crop['county_id'] != '998'].copy()\n",
    "    elif nass == 'Harvested':    \n",
    "        usda_crop.loc[usda_crop[val_name] == ' (D)', val_name] = np.nan\n",
    "        usda_crop[val_name] = usda_crop[val_name].str.replace(',','').astype(float)\n",
    "    return usda_crop[['State','state_id','county_id','GEOID','year',val_name,'Data Item']]\n"
   ]
  },
  {
   "cell_type": "markdown",
   "metadata": {},
   "source": [
    "# 2) Total Grain Yield Data\n",
    "- USDA NASS\n",
    "- period: 1980-2020\n",
    "- unit: bu/acre"
   ]
  },
  {
   "cell_type": "code",
   "execution_count": 5,
   "metadata": {},
   "outputs": [
    {
     "name": "stdout",
     "output_type": "stream",
     "text": [
      "['CORN, GRAIN - YIELD, MEASURED IN BU / ACRE']\n"
     ]
    }
   ],
   "source": [
    "################### opening yield data ######################################################################################\n",
    "if crop_yld_name == 'maize_yld':\n",
    "    usda1 = pd.read_csv('1_corn/1_survey_field_crop_total_yield_USDA/survey_field_crop_cron_total_yield_1981_2000_usda_8Mar2022_downloaded.csv', index_col=[0])\n",
    "    usda2 = pd.read_csv('1_corn/1_survey_field_crop_total_yield_USDA/survey_field_crop_cron_total_yield_2001_2020_usda_8Mar2022_downloaded.csv', index_col=[0])\n",
    "    usda1 = usda_format(usda1, crop_yld_name, 'Yield')\n",
    "    usda2 = usda_format(usda2, crop_yld_name, 'Yield')\n",
    "    usda_crop = pd.concat([usda1.reset_index(), usda2.reset_index()])\n",
    "    del usda1, usda2\n",
    "    data_path = '1_corn/1_survey_field_crop_total_yield_USDA/'\n",
    "elif crop_yld_name == 'soy_yld':\n",
    "    usda1 = pd.read_csv('2_soybeans/1_survey_field_crop_soybean_total_yields/survey_field_crop_soybeans_total_yield_1981_2000_8Mar2022_downloaded.csv', index_col=[0])\n",
    "    usda2 = pd.read_csv('2_soybeans/1_survey_field_crop_soybean_total_yields/survey_field_crop_soybeans_total_yield_2001_2020_8Mar2022_downloaded.csv', index_col=[0])\n",
    "    usda1 = usda_format(usda1, crop_yld_name, 'Yield')\n",
    "    usda2 = usda_format(usda2, crop_yld_name, 'Yield')\n",
    "    usda_crop = pd.concat([usda1.reset_index(), usda2.reset_index()])\n",
    "    del usda1, usda2\n",
    "    data_path = '2_soybean/1_survey_field_crop_soybean_total_yields/'\n",
    "elif crop_yld_name == 'sorghum_yld':\n",
    "    usda_crop = pd.read_csv('4_sorghum/1_survey_field_crop_sorghum_total_yields/survey_total_yield_sorghum_1981_2020_USDA.csv', index_col=[0])\n",
    "    usda_crop = usda_format(usda_crop, crop_yld_name, 'Yield')\n",
    "    data_path = '4_sorghum/1_survey_field_crop_sorghum_total_yields/'\n",
    "elif crop_yld_name == 'spr_wheat_yld':\n",
    "    usda_crop = pd.read_csv('3_spring_wheat/1_survey_field_crop_spring_wheat_total_yields/survey_total_yield_spring_wheat_1981_2020_USDA_raw.csv', index_col=[0])\n",
    "    usda_crop = usda_format(usda_crop, crop_yld_name, 'Yield')\n",
    "    data_path = '3_spring_wheat/1_survey_field_crop_spring_wheat_total_yields/\n",
    "    \n",
    "print(usda_crop['Data Item'].unique())"
   ]
  },
  {
   "cell_type": "code",
   "execution_count": 7,
   "metadata": {},
   "outputs": [
    {
     "name": "stdout",
     "output_type": "stream",
     "text": [
      "(501, 8)\n"
     ]
    },
    {
     "data": {
      "text/plain": [
       "(0, 8)"
      ]
     },
     "execution_count": 7,
     "metadata": {},
     "output_type": "execute_result"
    }
   ],
   "source": [
    "## check if there are any zero values or nan values for yields:\n",
    "print(usda_crop.loc[(usda_crop[crop_yld_name] == 0)].shape)\n",
    "usda_crop.loc[(usda_crop[crop_yld_name].isnull())].shape"
   ]
  },
  {
   "cell_type": "code",
   "execution_count": 14,
   "metadata": {},
   "outputs": [],
   "source": [
    "### saving yield data:\n",
    "usda_crop_df.to_csv(data_path+'survey_total_yield_'+crop_yld_name+'_1981_2020_USDA_final_3June2022.csv')"
   ]
  },
  {
   "cell_type": "markdown",
   "metadata": {},
   "source": [
    "# 3) Irrigated county - harvested area data:\n",
    "- total_harvest & irrigated harvest area from Census\n",
    "- period: 1997, 2002, 2007, 2012, 2017 (Census data only available for 5 years as of 2021)\n",
    "- unit: acres harvested\n"
   ]
  },
  {
   "cell_type": "markdown",
   "metadata": {},
   "source": [
    "## 3-1) total harvested area (irri+rainfed)"
   ]
  },
  {
   "cell_type": "code",
   "execution_count": 28,
   "metadata": {},
   "outputs": [
    {
     "name": "stdout",
     "output_type": "stream",
     "text": [
      "['CORN, GRAIN - ACRES HARVESTED']\n"
     ]
    }
   ],
   "source": [
    "################### opening yield data ######################################################################################\n",
    "\n",
    "if crop_yld_name == 'maize_yld':\n",
    "    data_path = '1_corn/2_census_field_crop_harvested_acrea_USDA/'\n",
    "    tot_harvest = pd.read_csv(data_path+'/census_5years_field_crop_corn_total_harvested_acres_8Mar2022_download.csv', index_col=[0])\n",
    "elif crop_yld_name == 'soy_yld':\n",
    "    data_path = '2_soybean/2_cencus_field_crop_soybean_acres/'\n",
    "    tot_harvest = pd.read_csv(data_path+'/census_5years_field_crop_soybeans_total_harvested_acres_8Mar2022_download.csv', index_col=[0])\n",
    "elif crop_yld_name == 'sorghum_yld':\n",
    "    data_path = '4_sorghum/2_census_field_crop_sorghum_acres/'\n",
    "    tot_harvest = pd.read_csv(data_path+'/census_5years_field_crop_sorghum_total_harvested_acreas_17Feb2022_downloaded.csv', index_col=[0])\n",
    "elif crop_yld_name == 'spr_wheat_yld':\n",
    "    data_path = '3_spring_wheat/2_census_field_crop_spring_wheat_acres/'\n",
    "    tot_harvest = pd.read_csv(data_path+'/census_5years_field_crop_spring_wheat_total_harvested_acres_17Feb2022_downloaded.csv', index_col=[0])\n",
    "\n",
    "tot_harvest = usda_format(tot_harvest, 'tot_harvest', 'Harvested')\n",
    "print(tot_harvest['Data Item'].unique())   "
   ]
  },
  {
   "cell_type": "code",
   "execution_count": 29,
   "metadata": {},
   "outputs": [
    {
     "name": "stdout",
     "output_type": "stream",
     "text": [
      "(0, 7) (1277,)\n"
     ]
    },
    {
     "data": {
      "text/html": [
       "<div>\n",
       "<style scoped>\n",
       "    .dataframe tbody tr th:only-of-type {\n",
       "        vertical-align: middle;\n",
       "    }\n",
       "\n",
       "    .dataframe tbody tr th {\n",
       "        vertical-align: top;\n",
       "    }\n",
       "\n",
       "    .dataframe thead th {\n",
       "        text-align: right;\n",
       "    }\n",
       "</style>\n",
       "<table border=\"1\" class=\"dataframe\">\n",
       "  <thead>\n",
       "    <tr style=\"text-align: right;\">\n",
       "      <th></th>\n",
       "      <th>State</th>\n",
       "      <th>state_id</th>\n",
       "      <th>county_id</th>\n",
       "      <th>GEOID</th>\n",
       "      <th>year</th>\n",
       "      <th>tot_harvest</th>\n",
       "      <th>Data Item</th>\n",
       "    </tr>\n",
       "    <tr>\n",
       "      <th>Program</th>\n",
       "      <th></th>\n",
       "      <th></th>\n",
       "      <th></th>\n",
       "      <th></th>\n",
       "      <th></th>\n",
       "      <th></th>\n",
       "      <th></th>\n",
       "    </tr>\n",
       "  </thead>\n",
       "  <tbody>\n",
       "    <tr>\n",
       "      <th>CENSUS</th>\n",
       "      <td>ALABAMA</td>\n",
       "      <td>01</td>\n",
       "      <td>065</td>\n",
       "      <td>01065</td>\n",
       "      <td>2017</td>\n",
       "      <td>NaN</td>\n",
       "      <td>CORN, GRAIN - ACRES HARVESTED</td>\n",
       "    </tr>\n",
       "    <tr>\n",
       "      <th>CENSUS</th>\n",
       "      <td>ALABAMA</td>\n",
       "      <td>01</td>\n",
       "      <td>087</td>\n",
       "      <td>01087</td>\n",
       "      <td>2017</td>\n",
       "      <td>NaN</td>\n",
       "      <td>CORN, GRAIN - ACRES HARVESTED</td>\n",
       "    </tr>\n",
       "    <tr>\n",
       "      <th>CENSUS</th>\n",
       "      <td>ALABAMA</td>\n",
       "      <td>01</td>\n",
       "      <td>023</td>\n",
       "      <td>01023</td>\n",
       "      <td>2017</td>\n",
       "      <td>NaN</td>\n",
       "      <td>CORN, GRAIN - ACRES HARVESTED</td>\n",
       "    </tr>\n",
       "    <tr>\n",
       "      <th>CENSUS</th>\n",
       "      <td>ALABAMA</td>\n",
       "      <td>01</td>\n",
       "      <td>097</td>\n",
       "      <td>01097</td>\n",
       "      <td>2017</td>\n",
       "      <td>NaN</td>\n",
       "      <td>CORN, GRAIN - ACRES HARVESTED</td>\n",
       "    </tr>\n",
       "    <tr>\n",
       "      <th>CENSUS</th>\n",
       "      <td>ALABAMA</td>\n",
       "      <td>01</td>\n",
       "      <td>027</td>\n",
       "      <td>01027</td>\n",
       "      <td>2017</td>\n",
       "      <td>NaN</td>\n",
       "      <td>CORN, GRAIN - ACRES HARVESTED</td>\n",
       "    </tr>\n",
       "    <tr>\n",
       "      <th>...</th>\n",
       "      <td>...</td>\n",
       "      <td>...</td>\n",
       "      <td>...</td>\n",
       "      <td>...</td>\n",
       "      <td>...</td>\n",
       "      <td>...</td>\n",
       "      <td>...</td>\n",
       "    </tr>\n",
       "    <tr>\n",
       "      <th>CENSUS</th>\n",
       "      <td>VIRGINIA</td>\n",
       "      <td>51</td>\n",
       "      <td>199</td>\n",
       "      <td>51199</td>\n",
       "      <td>1997</td>\n",
       "      <td>NaN</td>\n",
       "      <td>CORN, GRAIN - ACRES HARVESTED</td>\n",
       "    </tr>\n",
       "    <tr>\n",
       "      <th>CENSUS</th>\n",
       "      <td>VIRGINIA</td>\n",
       "      <td>51</td>\n",
       "      <td>005</td>\n",
       "      <td>51005</td>\n",
       "      <td>1997</td>\n",
       "      <td>NaN</td>\n",
       "      <td>CORN, GRAIN - ACRES HARVESTED</td>\n",
       "    </tr>\n",
       "    <tr>\n",
       "      <th>CENSUS</th>\n",
       "      <td>WASHINGTON</td>\n",
       "      <td>53</td>\n",
       "      <td>005</td>\n",
       "      <td>53005</td>\n",
       "      <td>1997</td>\n",
       "      <td>NaN</td>\n",
       "      <td>CORN, GRAIN - ACRES HARVESTED</td>\n",
       "    </tr>\n",
       "    <tr>\n",
       "      <th>CENSUS</th>\n",
       "      <td>WASHINGTON</td>\n",
       "      <td>53</td>\n",
       "      <td>063</td>\n",
       "      <td>53063</td>\n",
       "      <td>1997</td>\n",
       "      <td>NaN</td>\n",
       "      <td>CORN, GRAIN - ACRES HARVESTED</td>\n",
       "    </tr>\n",
       "    <tr>\n",
       "      <th>CENSUS</th>\n",
       "      <td>WEST VIRGINIA</td>\n",
       "      <td>54</td>\n",
       "      <td>039</td>\n",
       "      <td>54039</td>\n",
       "      <td>1997</td>\n",
       "      <td>NaN</td>\n",
       "      <td>CORN, GRAIN - ACRES HARVESTED</td>\n",
       "    </tr>\n",
       "  </tbody>\n",
       "</table>\n",
       "<p>1277 rows × 7 columns</p>\n",
       "</div>"
      ],
      "text/plain": [
       "                 State state_id county_id  GEOID  year  tot_harvest  \\\n",
       "Program                                                               \n",
       "CENSUS         ALABAMA       01       065  01065  2017          NaN   \n",
       "CENSUS         ALABAMA       01       087  01087  2017          NaN   \n",
       "CENSUS         ALABAMA       01       023  01023  2017          NaN   \n",
       "CENSUS         ALABAMA       01       097  01097  2017          NaN   \n",
       "CENSUS         ALABAMA       01       027  01027  2017          NaN   \n",
       "...                ...      ...       ...    ...   ...          ...   \n",
       "CENSUS        VIRGINIA       51       199  51199  1997          NaN   \n",
       "CENSUS        VIRGINIA       51       005  51005  1997          NaN   \n",
       "CENSUS      WASHINGTON       53       005  53005  1997          NaN   \n",
       "CENSUS      WASHINGTON       53       063  53063  1997          NaN   \n",
       "CENSUS   WEST VIRGINIA       54       039  54039  1997          NaN   \n",
       "\n",
       "                             Data Item  \n",
       "Program                                 \n",
       "CENSUS   CORN, GRAIN - ACRES HARVESTED  \n",
       "CENSUS   CORN, GRAIN - ACRES HARVESTED  \n",
       "CENSUS   CORN, GRAIN - ACRES HARVESTED  \n",
       "CENSUS   CORN, GRAIN - ACRES HARVESTED  \n",
       "CENSUS   CORN, GRAIN - ACRES HARVESTED  \n",
       "...                                ...  \n",
       "CENSUS   CORN, GRAIN - ACRES HARVESTED  \n",
       "CENSUS   CORN, GRAIN - ACRES HARVESTED  \n",
       "CENSUS   CORN, GRAIN - ACRES HARVESTED  \n",
       "CENSUS   CORN, GRAIN - ACRES HARVESTED  \n",
       "CENSUS   CORN, GRAIN - ACRES HARVESTED  \n",
       "\n",
       "[1277 rows x 7 columns]"
      ]
     },
     "execution_count": 29,
     "metadata": {},
     "output_type": "execute_result"
    }
   ],
   "source": [
    "## check if there are any zero values or nan values for harvested areas:\n",
    "print(tot_harvest.loc[tot_harvest['tot_harvest'] ==0].shape,\n",
    "    tot_harvest.loc[tot_harvest['tot_harvest'].isnull()].groupby(['GEOID','year'])['tot_harvest'].count().shape)\n",
    "tot_harvest.loc[tot_harvest['tot_harvest'].isnull()]"
   ]
  },
  {
   "cell_type": "code",
   "execution_count": 30,
   "metadata": {},
   "outputs": [
    {
     "name": "stdout",
     "output_type": "stream",
     "text": [
      "      GEOID\n",
      "year       \n",
      "1       184\n",
      "2       133\n",
      "3       112\n",
      "4       152\n",
      "5      2047\n"
     ]
    },
    {
     "data": {
      "image/png": "[encoded data removed]",
      "text/plain": [
       "<Figure size 640x480 with 1 Axes>"
      ]
     },
     "metadata": {},
     "output_type": "display_data"
    }
   ],
   "source": [
    "## visual plot of counties for how many years of harvest data they have:\n",
    "tot_harvest.dropna(subset=['tot_harvest'])[['GEOID','year']].drop_duplicates().groupby('GEOID').count().plot.hist(bins=np.arange(0,7,1), rwidth=0.85, align='left')\n",
    "print(tot_harvest.dropna(subset=['tot_harvest'])[['GEOID','year']].drop_duplicates().groupby('GEOID').count().reset_index().groupby('year').count())\n"
   ]
  },
  {
   "cell_type": "markdown",
   "metadata": {},
   "source": [
    "## 3-2) irrigated harvest area data"
   ]
  },
  {
   "cell_type": "code",
   "execution_count": 31,
   "metadata": {},
   "outputs": [
    {
     "name": "stdout",
     "output_type": "stream",
     "text": [
      "['CORN, GRAIN, IRRIGATED - ACRES HARVESTED']\n"
     ]
    }
   ],
   "source": [
    "if crop_yld_name == 'maize_yld':\n",
    "    data_path = '1_corn/2_census_field_crop_harvested_acrea_USDA'\n",
    "    irri_harvest = pd.read_csv(data_path+'/census_5years_field_crop_corn_irrigated_harvested_acres_8Mar2022_download.csv', index_col=[0])\n",
    "elif crop_yld_name == 'soy_yld':\n",
    "    data_path = '2_soybean/2_cencus_field_crop_soybean_acres'\n",
    "    irri_harvest = pd.read_csv(data_path+'/census_5years_field_crop_soybeans_irrigated_harvested_acres_8Mar2022_download.csv', index_col=[0])\n",
    "elif crop_yld_name == 'sorghum_yld':\n",
    "    data_path = '4_sorghum/2_census_field_crop_sorghum_acres'\n",
    "    irri_harvest = pd.read_csv(data_path+'/census_5years_field_crop_sorghum_irrigated_harvested_acreas_17Feb2022_downloaded.csv', index_col=[0])\n",
    "elif crop_yld_name == 'spr_wheat_yld':\n",
    "    data_path = '3_spring_wheat/2_census_field_crop_spring_wheat_acres/'\n",
    "    irri_harvest = pd.read_csv(data_path+'/census_5years_field_crop_spring_wheat_irrigated_harvested_acres_17Feb2022_downloaded.csv', index_col=[0])\n",
    "\n",
    "irri_harvest = usda_format(irri_harvest, 'irri_harvest', 'Harvested')\n",
    "print(irri_harvest['Data Item'].unique()) "
   ]
  },
  {
   "cell_type": "code",
   "execution_count": 33,
   "metadata": {},
   "outputs": [
    {
     "name": "stdout",
     "output_type": "stream",
     "text": [
      "(8212,) (3233,)\n",
      "      GEOID\n",
      "year       \n",
      "1       388\n",
      "2       185\n",
      "3       108\n",
      "4       183\n",
      "5       633\n"
     ]
    },
    {
     "data": {
      "image/png": "[encoded data removed]",
      "text/plain": [
       "<Figure size 640x480 with 1 Axes>"
      ]
     },
     "metadata": {},
     "output_type": "display_data"
    }
   ],
   "source": [
    "print(irri_harvest.groupby(['GEOID','year'])['irri_harvest'].count().shape,\n",
    "     irri_harvest.loc[irri_harvest['irri_harvest'].isnull()].groupby(['GEOID','year'])['irri_harvest'].count().shape)\n",
    "irri_harvest.dropna(subset=['irri_harvest'])[['GEOID','year']].drop_duplicates().groupby(['GEOID']).count().plot.hist(bins=np.arange(0,7,1), rwidth=0.85, align='left')\n",
    "print(irri_harvest.dropna(subset=['irri_harvest'])[['GEOID','year']].drop_duplicates().groupby('GEOID').count().reset_index().groupby('year').count())"
   ]
  },
  {
   "cell_type": "markdown",
   "metadata": {},
   "source": [
    "## 3-3) Merging \n",
    "- Merging total harvest and irrigated harvest data into one dataframe"
   ]
  },
  {
   "cell_type": "code",
   "execution_count": 34,
   "metadata": {},
   "outputs": [
    {
     "name": "stdout",
     "output_type": "stream",
     "text": [
      "tot_harvest + irri_harvest merge? ['left_only', 'both', 'right_only']\n",
      "Categories (3, object): ['left_only', 'right_only', 'both']\n",
      "tot_harshape: (12906, 7) irri_har shape: (8212, 7) merged shape: (11635, 8)\n",
      "tot_har (11629,) irri (4979,) both: (4973,)\n",
      "['left_only', 'both', 'right_only']\n",
      "Categories (3, object): ['left_only', 'right_only', 'both']\n"
     ]
    }
   ],
   "source": [
    "harvest_temp = pd.merge(tot_harvest.drop('Data Item',axis=1).dropna(subset=['tot_harvest']),\n",
    "                        irri_harvest[['state_id','county_id','GEOID','year','irri_harvest']].dropna(subset=['irri_harvest']), \n",
    "                        on=['state_id','county_id','GEOID','year'], how='outer',indicator=True)\n",
    "print('tot_harvest + irri_harvest merge?',harvest_temp._merge.unique())\n",
    "print('tot_harshape:', tot_harvest.shape, 'irri_har shape:', irri_harvest.shape,\n",
    "      'merged shape:',harvest_temp.shape)\n",
    "# 35037 35023 counties are both included in \"both\" and \"left_only\", that's why total GEOID for both is 1493 rather than 1491:\n",
    "print('tot_har',tot_harvest.dropna(subset=['tot_harvest']).groupby(['GEOID','year'])['tot_harvest'].count().shape,\n",
    "      'irri',irri_harvest.dropna(subset=['irri_harvest']).groupby(['GEOID','year'])['irri_harvest'].count().shape,\n",
    "      'both:',harvest_temp.loc[harvest_temp['_merge']=='both'].groupby(['GEOID','year'])['tot_harvest'].count().shape)\n",
    "harvest_temp = harvest_temp.rename(columns={'_merge':'tot+irri_har_merge'})\n",
    "print(harvest_temp['tot+irri_har_merge'].unique())"
   ]
  },
  {
   "cell_type": "code",
   "execution_count": 25,
   "metadata": {},
   "outputs": [],
   "source": [
    "### saving file:\n",
    "harvest.to_csv(data_path+'census_'+crop_yld_name+'_combined_total_irrigated_harvest_counties_3June2022.csv')"
   ]
  }
 ],
 "metadata": {
  "kernelspec": {
   "display_name": "Python 3 (ipykernel)",
   "language": "python",
   "name": "python3"
  },
  "language_info": {
   "codemirror_mode": {
    "name": "ipython",
    "version": 3
   },
   "file_extension": ".py",
   "mimetype": "text/x-python",
   "name": "python",
   "nbconvert_exporter": "python",
   "pygments_lexer": "ipython3",
   "version": "3.8.15"
  }
 },
 "nbformat": 4,
 "nbformat_minor": 4
}
