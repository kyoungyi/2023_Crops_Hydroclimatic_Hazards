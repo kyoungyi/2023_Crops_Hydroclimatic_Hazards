{
 "cells": [
  {
   "cell_type": "markdown",
   "id": "f8289804",
   "metadata": {},
   "source": [
    "# Hydroclimatic hazard modeling:\n",
    "\n",
    "- Author: Eunkyoung Choi (kyoung.choi@colostate.edu)\n",
    "- Version: Nov 21, 2022"
   ]
  },
  {
   "cell_type": "code",
   "execution_count": 1,
   "id": "f4c5ffa4",
   "metadata": {},
   "outputs": [
    {
     "name": "stderr",
     "output_type": "stream",
     "text": [
      "C:\\Users\\kyoun\\AppData\\Local\\Temp\\ipykernel_15656\\3631648083.py:8: MatplotlibDeprecationWarning: The seaborn styles shipped by Matplotlib are deprecated since 3.6, as they no longer correspond to the styles shipped by seaborn. However, they will remain available as 'seaborn-v0_8-<style>'. Alternatively, directly use the seaborn API instead.\n",
      "  plt.style.use('seaborn-whitegrid')\n",
      "C:\\Users\\kyoun\\AppData\\Local\\Temp\\ipykernel_15656\\3631648083.py:13: MatplotlibDeprecationWarning: The seaborn styles shipped by Matplotlib are deprecated since 3.6, as they no longer correspond to the styles shipped by seaborn. However, they will remain available as 'seaborn-v0_8-<style>'. Alternatively, directly use the seaborn API instead.\n",
      "  plt.style.use('seaborn-whitegrid')\n"
     ]
    }
   ],
   "source": [
    "## Import packages:\n",
    "import numpy as np\n",
    "import pandas as pd\n",
    "import matplotlib.pyplot as plt\n",
    "import statsmodels.api as sm\n",
    "import statsmodels.formula.api as smf\n",
    "import seaborn as sns; sns.set()\n",
    "plt.style.use('seaborn-whitegrid')\n",
    "import plotly.graph_objects as go\n",
    "from scipy import stats\n",
    "import plotly.figure_factory as ff\n",
    "import plotly.express as px\n",
    "plt.style.use('seaborn-whitegrid')\n",
    "import matplotlib\n",
    "import warnings\n",
    "warnings.filterwarnings('ignore')\n",
    "from urllib.request import urlopen\n",
    "import json\n",
    "with urlopen('https://raw.githubusercontent.com/plotly/datasets/master/geojson-counties-fips.json') as response:\n",
    "    counties = json.load(response)\n",
    "## some setting:\n",
    "pd.set_option('display.max_rows', 5000)\n",
    "pd.set_option('display.max_columns', 500)"
   ]
  },
  {
   "cell_type": "markdown",
   "id": "6f84f87a",
   "metadata": {},
   "source": [
    "# 1) Options:"
   ]
  },
  {
   "cell_type": "code",
   "execution_count": 65,
   "id": "96b579b7",
   "metadata": {},
   "outputs": [],
   "source": [
    "'''\n",
    "choose options below:\n",
    "focus = 'HighD+LowS', 'LowD+HighS', ## 'HighD+HighS', 'LowD+LowS'\n",
    "'''\n",
    "\n",
    "focus = 'HighD+LowS'\n",
    "\n",
    "if focus == 'HighD+LowS':\n",
    "    zminn = -40\n",
    "    zmaxx = 0\n",
    "    colorr= \"amp_r\"\n",
    "elif focus == 'LowD+HighS':\n",
    "    zminn = -10\n",
    "    zmaxx = 0\n",
    "    colorr = 'blues_r'"
   ]
  },
  {
   "cell_type": "markdown",
   "id": "149ee44d",
   "metadata": {},
   "source": [
    "# 2) Load data:"
   ]
  },
  {
   "cell_type": "code",
   "execution_count": 35,
   "id": "6cdef9ee",
   "metadata": {},
   "outputs": [],
   "source": [
    "##### aggregating all crops at the annual county-level ###############\n",
    "hypo_df = pd.DataFrame()\n",
    "for crop in (['maize_yld','soy_yld','spr_wheat_yld','sorghum_yld']):\n",
    "    temp_df = pd.read_csv('Outputs/'+crop+'_geoid_level_yld_gap.csv', index_col=0).rename(columns={'kgha_'+crop:'true_yld'})\n",
    "    hypo_df = pd.concat([hypo_df, temp_df], axis=0)\n",
    "    hypo_df['GEOID'] = hypo_df['GEOID'].astype(str).str.zfill(5)\n",
    "del temp_df"
   ]
  },
  {
   "cell_type": "code",
   "execution_count": 66,
   "id": "f8bb1a56",
   "metadata": {},
   "outputs": [
    {
     "name": "stdout",
     "output_type": "stream",
     "text": [
      "any null values []\n",
      "(0, 8)\n"
     ]
    }
   ],
   "source": [
    "#### cleaning the dataframe ################\n",
    "extract_col = ['GEOID','year','true_yld','pred','harvested_hac','crop_name',focus +'_pred_yld', focus+'_gap']\n",
    "remove_crop = hypo_df.loc[hypo_df[focus+'_pred_yld'].isnull()]['crop_name'].unique()\n",
    "print('any null values', remove_crop)\n",
    "major_hydro = hypo_df.loc[~hypo_df['crop_name'].isin(remove_crop)][extract_col].copy()\n",
    "print(major_hydro[major_hydro.isnull().any(axis=1)].shape)\n",
    "major_hydro.loc[major_hydro[focus+'_gap'] < 1e-8, focus+'_gap'] = 0.0\n",
    "major_hydro = major_hydro.replace(0.0, np.nan)\n"
   ]
  },
  {
   "cell_type": "code",
   "execution_count": 68,
   "id": "0bc863a5",
   "metadata": {},
   "outputs": [],
   "source": [
    "major_hydro = major_hydro.loc[~major_hydro[focus+'_gap'].isnull()]"
   ]
  },
  {
   "cell_type": "markdown",
   "id": "d77ab5a8",
   "metadata": {},
   "source": [
    "# 3) Average yield losses across the crops at the county level:\n",
    "## 3-1) average yield losses"
   ]
  },
  {
   "cell_type": "code",
   "execution_count": 69,
   "id": "2a8f6e6c",
   "metadata": {},
   "outputs": [
    {
     "data": {
      "text/html": [
       "<div>\n",
       "<style scoped>\n",
       "    .dataframe tbody tr th:only-of-type {\n",
       "        vertical-align: middle;\n",
       "    }\n",
       "\n",
       "    .dataframe tbody tr th {\n",
       "        vertical-align: top;\n",
       "    }\n",
       "\n",
       "    .dataframe thead th {\n",
       "        text-align: right;\n",
       "    }\n",
       "</style>\n",
       "<table border=\"1\" class=\"dataframe\">\n",
       "  <thead>\n",
       "    <tr style=\"text-align: right;\">\n",
       "      <th></th>\n",
       "      <th>GEOID</th>\n",
       "      <th>year</th>\n",
       "      <th>true_yld</th>\n",
       "      <th>pred</th>\n",
       "      <th>harvested_hac</th>\n",
       "      <th>crop_name</th>\n",
       "      <th>HighD+LowS_pred_yld</th>\n",
       "      <th>HighD+LowS_gap</th>\n",
       "      <th>HighD+LowS_%</th>\n",
       "    </tr>\n",
       "  </thead>\n",
       "  <tbody>\n",
       "    <tr>\n",
       "      <th>0</th>\n",
       "      <td>13029</td>\n",
       "      <td>1981.0</td>\n",
       "      <td>2567.212341</td>\n",
       "      <td>1512.377990</td>\n",
       "      <td>2507.659802</td>\n",
       "      <td>Maize</td>\n",
       "      <td>5271.219074</td>\n",
       "      <td>3758.841084</td>\n",
       "      <td>71.308762</td>\n",
       "    </tr>\n",
       "    <tr>\n",
       "      <th>1</th>\n",
       "      <td>13029</td>\n",
       "      <td>1982.0</td>\n",
       "      <td>5077.933363</td>\n",
       "      <td>3823.326255</td>\n",
       "      <td>2507.659802</td>\n",
       "      <td>Maize</td>\n",
       "      <td>4825.683877</td>\n",
       "      <td>1002.357622</td>\n",
       "      <td>20.771307</td>\n",
       "    </tr>\n",
       "    <tr>\n",
       "      <th>2</th>\n",
       "      <td>13029</td>\n",
       "      <td>1983.0</td>\n",
       "      <td>2849.668456</td>\n",
       "      <td>2894.858732</td>\n",
       "      <td>2507.659802</td>\n",
       "      <td>Maize</td>\n",
       "      <td>4064.275958</td>\n",
       "      <td>1169.417226</td>\n",
       "      <td>28.773076</td>\n",
       "    </tr>\n",
       "    <tr>\n",
       "      <th>3</th>\n",
       "      <td>13029</td>\n",
       "      <td>1984.0</td>\n",
       "      <td>4230.565018</td>\n",
       "      <td>3718.244082</td>\n",
       "      <td>2507.659802</td>\n",
       "      <td>Maize</td>\n",
       "      <td>4887.661308</td>\n",
       "      <td>1169.417226</td>\n",
       "      <td>23.925906</td>\n",
       "    </tr>\n",
       "    <tr>\n",
       "      <th>4</th>\n",
       "      <td>13029</td>\n",
       "      <td>1985.0</td>\n",
       "      <td>4293.333044</td>\n",
       "      <td>2956.196013</td>\n",
       "      <td>2507.659802</td>\n",
       "      <td>Maize</td>\n",
       "      <td>5462.090069</td>\n",
       "      <td>2505.894056</td>\n",
       "      <td>45.877934</td>\n",
       "    </tr>\n",
       "    <tr>\n",
       "      <th>...</th>\n",
       "      <td>...</td>\n",
       "      <td>...</td>\n",
       "      <td>...</td>\n",
       "      <td>...</td>\n",
       "      <td>...</td>\n",
       "      <td>...</td>\n",
       "      <td>...</td>\n",
       "      <td>...</td>\n",
       "      <td>...</td>\n",
       "    </tr>\n",
       "    <tr>\n",
       "      <th>10980</th>\n",
       "      <td>48497</td>\n",
       "      <td>2001.0</td>\n",
       "      <td>2422.845787</td>\n",
       "      <td>3054.480733</td>\n",
       "      <td>3825.187923</td>\n",
       "      <td>Sorghum</td>\n",
       "      <td>4177.567703</td>\n",
       "      <td>1123.086970</td>\n",
       "      <td>26.883753</td>\n",
       "    </tr>\n",
       "    <tr>\n",
       "      <th>10981</th>\n",
       "      <td>48497</td>\n",
       "      <td>2003.0</td>\n",
       "      <td>2008.576818</td>\n",
       "      <td>1977.679691</td>\n",
       "      <td>3825.187923</td>\n",
       "      <td>Sorghum</td>\n",
       "      <td>3089.327480</td>\n",
       "      <td>1111.647789</td>\n",
       "      <td>35.983488</td>\n",
       "    </tr>\n",
       "    <tr>\n",
       "      <th>10982</th>\n",
       "      <td>48497</td>\n",
       "      <td>2004.0</td>\n",
       "      <td>3483.625418</td>\n",
       "      <td>3835.909013</td>\n",
       "      <td>3825.187923</td>\n",
       "      <td>Sorghum</td>\n",
       "      <td>3888.916963</td>\n",
       "      <td>53.007950</td>\n",
       "      <td>1.363052</td>\n",
       "    </tr>\n",
       "    <tr>\n",
       "      <th>10983</th>\n",
       "      <td>48497</td>\n",
       "      <td>2006.0</td>\n",
       "      <td>2699.025099</td>\n",
       "      <td>2160.719047</td>\n",
       "      <td>3825.187923</td>\n",
       "      <td>Sorghum</td>\n",
       "      <td>4342.438849</td>\n",
       "      <td>2181.719802</td>\n",
       "      <td>50.241808</td>\n",
       "    </tr>\n",
       "    <tr>\n",
       "      <th>10984</th>\n",
       "      <td>48497</td>\n",
       "      <td>2010.0</td>\n",
       "      <td>3621.715075</td>\n",
       "      <td>3319.374154</td>\n",
       "      <td>3825.187923</td>\n",
       "      <td>Sorghum</td>\n",
       "      <td>4008.477498</td>\n",
       "      <td>689.103344</td>\n",
       "      <td>17.191149</td>\n",
       "    </tr>\n",
       "  </tbody>\n",
       "</table>\n",
       "<p>69579 rows × 9 columns</p>\n",
       "</div>"
      ],
      "text/plain": [
       "       GEOID    year     true_yld         pred  harvested_hac crop_name  \\\n",
       "0      13029  1981.0  2567.212341  1512.377990    2507.659802     Maize   \n",
       "1      13029  1982.0  5077.933363  3823.326255    2507.659802     Maize   \n",
       "2      13029  1983.0  2849.668456  2894.858732    2507.659802     Maize   \n",
       "3      13029  1984.0  4230.565018  3718.244082    2507.659802     Maize   \n",
       "4      13029  1985.0  4293.333044  2956.196013    2507.659802     Maize   \n",
       "...      ...     ...          ...          ...            ...       ...   \n",
       "10980  48497  2001.0  2422.845787  3054.480733    3825.187923   Sorghum   \n",
       "10981  48497  2003.0  2008.576818  1977.679691    3825.187923   Sorghum   \n",
       "10982  48497  2004.0  3483.625418  3835.909013    3825.187923   Sorghum   \n",
       "10983  48497  2006.0  2699.025099  2160.719047    3825.187923   Sorghum   \n",
       "10984  48497  2010.0  3621.715075  3319.374154    3825.187923   Sorghum   \n",
       "\n",
       "       HighD+LowS_pred_yld  HighD+LowS_gap  HighD+LowS_%  \n",
       "0              5271.219074     3758.841084     71.308762  \n",
       "1              4825.683877     1002.357622     20.771307  \n",
       "2              4064.275958     1169.417226     28.773076  \n",
       "3              4887.661308     1169.417226     23.925906  \n",
       "4              5462.090069     2505.894056     45.877934  \n",
       "...                    ...             ...           ...  \n",
       "10980          4177.567703     1123.086970     26.883753  \n",
       "10981          3089.327480     1111.647789     35.983488  \n",
       "10982          3888.916963       53.007950      1.363052  \n",
       "10983          4342.438849     2181.719802     50.241808  \n",
       "10984          4008.477498      689.103344     17.191149  \n",
       "\n",
       "[69579 rows x 9 columns]"
      ]
     },
     "execution_count": 69,
     "metadata": {},
     "output_type": "execute_result"
    }
   ],
   "source": [
    "### annual yield loss per crop per hydroclimatic hazard\n",
    "major_hydro[focus+'_%'] = major_hydro[focus+'_gap'] / major_hydro[focus+'_pred_yld']* 100\n",
    "major_hydro"
   ]
  },
  {
   "cell_type": "code",
   "execution_count": 70,
   "id": "71641eaf",
   "metadata": {},
   "outputs": [
    {
     "data": {
      "text/plain": [
       "array([1], dtype=int64)"
      ]
     },
     "execution_count": 70,
     "metadata": {},
     "output_type": "execute_result"
    }
   ],
   "source": [
    "## check if harvested area is only 1 for all years:\n",
    "major_hydro[['GEOID','harvested_hac','crop_name']].drop_duplicates().groupby(['crop_name','GEOID'])['harvested_hac'].nunique().unique()"
   ]
  },
  {
   "cell_type": "code",
   "execution_count": 71,
   "id": "4272e2a7",
   "metadata": {},
   "outputs": [],
   "source": [
    "avg_major_hydro = major_hydro.groupby(['crop_name','GEOID','harvested_hac'])[focus+'_%'].mean().reset_index()\n",
    "\n",
    "avg_major_hydro['crop_sum_harvested'] = avg_major_hydro.groupby(['GEOID'])['harvested_hac'].transform(sum)\n",
    "avg_major_hydro['weight_harvested'] = avg_major_hydro['harvested_hac'] / avg_major_hydro['crop_sum_harvested']\n",
    "avg_major_hydro['weighted_crop_yld_loss'] = avg_major_hydro[focus+'_%'] * avg_major_hydro['weight_harvested']\n",
    "\n",
    "final_df = avg_major_hydro.groupby(['GEOID'])['weighted_crop_yld_loss'].sum().reset_index()\n",
    "avg_major_hydro = avg_major_hydro.replace(np.nan, 0.0)\n",
    "final_df = pd.merge(final_df, avg_major_hydro.loc[(avg_major_hydro.groupby(['GEOID'])['weighted_crop_yld_loss'].idxmax())].sort_values(by='GEOID')[['GEOID','crop_name']],\n",
    "                   on=['GEOID'], how='left')\n",
    "final_df['nonee'] = 0"
   ]
  },
  {
   "cell_type": "code",
   "execution_count": 15,
   "id": "5a74813b",
   "metadata": {},
   "outputs": [],
   "source": [
    "## merging it with state_name:\n",
    "state = pd.read_excel('../../../../../state_full_name_abb.xlsx')\n",
    "state['FIPS'] = state['FIPS'].astype(str).str.zfill(2)\n",
    "state = state.rename(columns={'Postal Code':'state', 'FIPS':'state_id'})\n",
    "state = state.loc[~state['state'].isin(['HI','VI','PR','MP','GU','AS'])]\n",
    "state['nonee'] = 0"
   ]
  },
  {
   "cell_type": "markdown",
   "id": "3ab33a0f",
   "metadata": {},
   "source": [
    "## 3-2) Spatial plot\n",
    "### 1. average yield losses (figure 3)"
   ]
  },
  {
   "cell_type": "code",
   "execution_count": 75,
   "id": "763d0951",
   "metadata": {},
   "outputs": [],
   "source": [
    "fig = go.Figure(go.Choropleth( locationmode='geojson-id', geojson=counties, locations=final_df['GEOID'],\n",
    "                              z=final_df['weighted_crop_yld_loss'] * -1, colorscale=colorr, zmin=zminn, zmax=zmaxx,\n",
    "                              colorbar={'outlinecolor':'Black', 'outlinewidth':3,'tickfont':dict(size=18,family='Arial'),\n",
    "                                       'orientation':'h','xanchor':'center','y':-0.45,'x':0.46, 'len':0.6, 'thickness':20},\n",
    "                              colorbar_title=dict(text=\"Average Yield Losses (%/year)\",font_family='Arial',side='top',\n",
    "                                                 font_size=18),\n",
    "                                marker_line_width=0 \n",
    "                              ))\n",
    "chor4 = go.Choropleth(locationmode='USA-states', locations=state['state'].unique(),\n",
    "                            z=state[['state','nonee']].drop_duplicates()['nonee'],\n",
    "                            colorscale = [[0,'rgba(0, 0, 0, 0)'],[1,'rgba(0, 0, 0, 0)']],\n",
    "                     showscale=False, marker_line_width=0.6, marker_line_color='black')\n",
    "fig.add_trace(chor4)\n",
    "fig.update_geos(visible=False, scope='usa', \n",
    "               showsubunits=True, subunitcolor='black', subunitwidth=1)\n",
    "### saving figure ###\n",
    "##fig.write_image('fig/fig4/spatial_drought_all_crops1_sep2022.pdf',  width=600, height=500, scale=1.5)  \n",
    "fig.show()"
   ]
  },
  {
   "cell_type": "markdown",
   "id": "53842776",
   "metadata": {},
   "source": [
    "### 2. dominant crop (figure 3)"
   ]
  },
  {
   "cell_type": "code",
   "execution_count": 74,
   "id": "6650d2fd",
   "metadata": {},
   "outputs": [],
   "source": [
    "######### add maize ##################\n",
    "df1 = final_df.loc[final_df['crop_name'] == 'Maize'] \n",
    "fig1 = go.Figure(go.Choropleth( locationmode='geojson-id', geojson=counties, locations=df1['GEOID'],\n",
    "                              z=df1['nonee'], showscale=False, colorscale = [[0,'rgba(0, 0, 0, 0)'],[1,'rgba(0, 0, 0, 0)']],\n",
    "                              marker_line_width=0.8, marker_line_color='orange'\n",
    "                              ))\n",
    "######## add soybeans ################\n",
    "df2 =final_df.loc[final_df['crop_name'] == 'Soybeans']\n",
    "chor1 = go.Choropleth(locationmode='geojson-id',geojson=counties, locations=df2['GEOID'],\n",
    "                          z=df2['nonee'], \n",
    "                          showscale=False, colorscale = [[0,'rgba(0, 0, 0, 0)'],[1,'rgba(0, 0, 0, 0)']],\n",
    "                          marker_line_width=0.8, marker_line_color='skyblue')\n",
    "\n",
    "####### add sorghum ##################\n",
    "df2 =final_df.loc[final_df['crop_name'] == 'Sorghum']\n",
    "chor2 = go.Choropleth(locationmode='geojson-id',geojson=counties, locations=df2['GEOID'],\n",
    "                          z=df2['nonee'], \n",
    "                          showscale=False, colorscale = [[0,'rgba(0, 0, 0, 0)'],[1,'rgba(0, 0, 0, 0)']],\n",
    "                          marker_line_width=0.8, marker_line_color='darkgreen')\n",
    "\n",
    "####### add spring wehat #############\n",
    "df2 =final_df.loc[final_df['crop_name'] == 'Spring Wheat']\n",
    "chor3 = go.Choropleth(locationmode='geojson-id',geojson=counties, locations=df2['GEOID'],\n",
    "                          z=df2['nonee'], \n",
    "                         showscale=False, colorscale = [[0,'rgba(0, 0, 0, 0)'],[1,'rgba(0, 0, 0, 0)']],\n",
    "                          marker_line_width=0.8, marker_line_color='rebeccapurple')\n",
    "\n",
    "###### state boundary ###############\n",
    "chor4 = go.Choropleth(locationmode='USA-states', locations=state['state'].unique(),\n",
    "                            z=state[['state','nonee']].drop_duplicates()['nonee'],\n",
    "                            colorscale = [[0,'rgba(0, 0, 0, 0)'],[1,'rgba(0, 0, 0, 0)']],\n",
    "                     showscale=False, marker_line_width=0.6, marker_line_color='black')\n",
    "\n",
    "fig1.add_trace(chor1)\n",
    "fig1.add_trace(chor2)\n",
    "fig1.add_trace(chor3)\n",
    "fig1.add_trace(chor4)\n",
    "\n",
    "fig1.update_geos(visible=False, scope='usa',\n",
    "               showsubunits=True,  subunitcolor='black', subunitwidth=1)\n",
    "### saving figures ##########\n",
    "#fig1.write_image('fig/fig4/spatial_flood_all_crops1_sep2022.png',  width=600, height=500, scale=1.2) \n",
    "#fig1.write_image('fig/fig4/spatial_flood_all_crops1_sep2022.pdf',  width=600, height=500, scale=1.2)\n",
    "fig1.show()\n",
    "del df1, df2"
   ]
  },
  {
   "cell_type": "markdown",
   "id": "c546da6d",
   "metadata": {},
   "source": [
    "### 3. individual crop (Supplementary figures S5 and S6)"
   ]
  },
  {
   "cell_type": "code",
   "execution_count": 33,
   "id": "33986454",
   "metadata": {},
   "outputs": [],
   "source": [
    "df1 = avg_major_hydro.loc[avg_major_hydro['crop_name'] == 'Maize'].copy()\n",
    "fig = go.Figure(go.Choropleth( locationmode='geojson-id', geojson=counties, locations=df1['GEOID'],\n",
    "                              z=df1[focus+'_%'] * -1, colorscale=colorr, zmin=zminn, zmax=zmaxx,\n",
    "                              colorbar={'outlinecolor':'Black', 'outlinewidth':3,'tickfont':dict(size=18,family='Arial'),\n",
    "                                       'orientation':'h','xanchor':'center','y':-0.45,'x':0.46, 'len':0.6, 'thickness':20},\n",
    "                              colorbar_title=dict(text=\"Average Yield Losses (%/year)\",font_family='Arial',side='top',\n",
    "                                                 font_size=18),marker_line_width=0\n",
    "                              ))\n",
    "\n",
    "chor4 = go.Choropleth(locationmode='USA-states', locations=state['state'].unique(),\n",
    "                            z=state[['state','nonee']].drop_duplicates()['nonee'],\n",
    "                            colorscale = [[0,'rgba(0, 0, 0, 0)'],[1,'rgba(0, 0, 0, 0)']],\n",
    "                     showscale=False, marker_line_width=0.6, marker_line_color='black')\n",
    "\n",
    "\n",
    "fig.add_trace(chor4)\n",
    "fig.update_geos(visible=False, scope='usa',\n",
    "               showsubunits=True,  subunitcolor='black', subunitwidth=1)\n",
    "\n",
    "#fig.write_image('fig/supplementary/spatial_drought_spring_wheat.pdf',  width=600, height=500, scale=1.5)\n",
    "fig.show()"
   ]
  },
  {
   "cell_type": "code",
   "execution_count": null,
   "id": "d1dc82ee",
   "metadata": {},
   "outputs": [],
   "source": []
  }
 ],
 "metadata": {
  "kernelspec": {
   "display_name": "Python 3 (ipykernel)",
   "language": "python",
   "name": "python3"
  },
  "language_info": {
   "codemirror_mode": {
    "name": "ipython",
    "version": 3
   },
   "file_extension": ".py",
   "mimetype": "text/x-python",
   "name": "python",
   "nbconvert_exporter": "python",
   "pygments_lexer": "ipython3",
   "version": "3.8.15"
  }
 },
 "nbformat": 4,
 "nbformat_minor": 5
}
